{
  "nbformat": 4,
  "nbformat_minor": 0,
  "metadata": {
    "colab": {
      "provenance": []
    },
    "kernelspec": {
      "name": "python3",
      "display_name": "Python 3"
    },
    "language_info": {
      "name": "python"
    }
  },
  "cells": [
    {
      "cell_type": "code",
      "source": [
        "pip install imageio-ffmpeg"
      ],
      "metadata": {
        "colab": {
          "base_uri": "https://localhost:8080/"
        },
        "id": "_WfeIsDl5-U8",
        "outputId": "fcebb0e6-69d4-4c72-a2fe-afdd9a807818"
      },
      "execution_count": null,
      "outputs": [
        {
          "output_type": "stream",
          "name": "stdout",
          "text": [
            "Looking in indexes: https://pypi.org/simple, https://us-python.pkg.dev/colab-wheels/public/simple/\n",
            "Collecting imageio-ffmpeg\n",
            "  Downloading imageio_ffmpeg-0.4.7-py3-none-manylinux2010_x86_64.whl (26.9 MB)\n",
            "\u001b[K     |████████████████████████████████| 26.9 MB 1.7 MB/s \n",
            "\u001b[?25hInstalling collected packages: imageio-ffmpeg\n",
            "Successfully installed imageio-ffmpeg-0.4.7\n"
          ]
        }
      ]
    },
    {
      "cell_type": "code",
      "source": [
        "pip install imageio==2.4.1"
      ],
      "metadata": {
        "colab": {
          "base_uri": "https://localhost:8080/"
        },
        "id": "RIfbHVpS6I9w",
        "outputId": "ad609a1e-5ef9-4af2-c279-f65ad773d7ce"
      },
      "execution_count": null,
      "outputs": [
        {
          "output_type": "stream",
          "name": "stdout",
          "text": [
            "Looking in indexes: https://pypi.org/simple, https://us-python.pkg.dev/colab-wheels/public/simple/\n",
            "Collecting imageio==2.4.1\n",
            "  Downloading imageio-2.4.1.tar.gz (3.3 MB)\n",
            "\u001b[K     |████████████████████████████████| 3.3 MB 5.2 MB/s \n",
            "\u001b[?25hRequirement already satisfied: numpy in /usr/local/lib/python3.8/dist-packages (from imageio==2.4.1) (1.21.6)\n",
            "Requirement already satisfied: pillow in /usr/local/lib/python3.8/dist-packages (from imageio==2.4.1) (7.1.2)\n",
            "Building wheels for collected packages: imageio\n",
            "  Building wheel for imageio (setup.py) ... \u001b[?25l\u001b[?25hdone\n",
            "  Created wheel for imageio: filename=imageio-2.4.1-py3-none-any.whl size=3303886 sha256=f7170595a193dbdd2ed2be1bfccad2cf0d0b2f53609a2d1f3821f0c11c16282a\n",
            "  Stored in directory: /root/.cache/pip/wheels/be/7b/04/4d8d56f1d503e5c404f0de6018c0cfa592c71588a39b49e002\n",
            "Successfully built imageio\n",
            "Installing collected packages: imageio\n",
            "  Attempting uninstall: imageio\n",
            "    Found existing installation: imageio 2.9.0\n",
            "    Uninstalling imageio-2.9.0:\n",
            "      Successfully uninstalled imageio-2.9.0\n",
            "Successfully installed imageio-2.4.1\n"
          ]
        }
      ]
    },
    {
      "cell_type": "code",
      "source": [
        "from moviepy.editor import VideoFileClip\n",
        "import numpy as np\n",
        "import os\n",
        "from datetime import timedelta"
      ],
      "metadata": {
        "colab": {
          "base_uri": "https://localhost:8080/"
        },
        "id": "zrvKogEl55Gj",
        "outputId": "09387e0b-870f-484f-f68b-7a1724a0ff34"
      },
      "execution_count": null,
      "outputs": [
        {
          "output_type": "stream",
          "name": "stdout",
          "text": [
            "Imageio: 'ffmpeg-linux64-v3.3.1' was not found on your computer; downloading it now.\n",
            "Try 1. Download from https://github.com/imageio/imageio-binaries/raw/master/ffmpeg/ffmpeg-linux64-v3.3.1 (43.8 MB)\n",
            "Downloading: 8192/45929032 bytes (0.0%)\b\b\b\b\b\b\b\b\b\b\b\b\b\b\b\b\b\b\b\b\b\b\b\b\b\b2621440/45929032 bytes (5.7%)\b\b\b\b\b\b\b\b\b\b\b\b\b\b\b\b\b\b\b\b\b\b\b\b\b\b\b\b\b5480448/45929032 bytes (11.9%)\b\b\b\b\b\b\b\b\b\b\b\b\b\b\b\b\b\b\b\b\b\b\b\b\b\b\b\b\b\b8593408/45929032 bytes (18.7%)\b\b\b\b\b\b\b\b\b\b\b\b\b\b\b\b\b\b\b\b\b\b\b\b\b\b\b\b\b\b11526144/45929032 bytes (25.1%)\b\b\b\b\b\b\b\b\b\b\b\b\b\b\b\b\b\b\b\b\b\b\b\b\b\b\b\b\b\b\b14852096/45929032 bytes (32.3%)\b\b\b\b\b\b\b\b\b\b\b\b\b\b\b\b\b\b\b\b\b\b\b\b\b\b\b\b\b\b\b18456576/45929032 bytes (40.2%)\b\b\b\b\b\b\b\b\b\b\b\b\b\b\b\b\b\b\b\b\b\b\b\b\b\b\b\b\b\b\b22020096/45929032 bytes (47.9%)\b\b\b\b\b\b\b\b\b\b\b\b\b\b\b\b\b\b\b\b\b\b\b\b\b\b\b\b\b\b\b25567232/45929032 bytes (55.7%)\b\b\b\b\b\b\b\b\b\b\b\b\b\b\b\b\b\b\b\b\b\b\b\b\b\b\b\b\b\b\b28901376/45929032 bytes (62.9%)\b\b\b\b\b\b\b\b\b\b\b\b\b\b\b\b\b\b\b\b\b\b\b\b\b\b\b\b\b\b\b32464896/45929032 bytes (70.7%)\b\b\b\b\b\b\b\b\b\b\b\b\b\b\b\b\b\b\b\b\b\b\b\b\b\b\b\b\b\b\b35880960/45929032 bytes (78.1%)\b\b\b\b\b\b\b\b\b\b\b\b\b\b\b\b\b\b\b\b\b\b\b\b\b\b\b\b\b\b\b39215104/45929032 bytes (85.4%)\b\b\b\b\b\b\b\b\b\b\b\b\b\b\b\b\b\b\b\b\b\b\b\b\b\b\b\b\b\b\b42860544/45929032 bytes (93.3%)\b\b\b\b\b\b\b\b\b\b\b\b\b\b\b\b\b\b\b\b\b\b\b\b\b\b\b\b\b\b\b45929032/45929032 bytes (100.0%)\n",
            "  Done\n",
            "File saved as /root/.imageio/ffmpeg/ffmpeg-linux64-v3.3.1.\n"
          ]
        }
      ]
    },
    {
      "cell_type": "code",
      "source": [
        "# i.e if video of duration 30 seconds, saves 10 frame per second = 300 frames saved in total\n",
        "SAVING_FRAMES_PER_SECOND = 5"
      ],
      "metadata": {
        "id": "frn9dsU755lH"
      },
      "execution_count": null,
      "outputs": []
    },
    {
      "cell_type": "code",
      "source": [
        "def format_timedelta(td):\n",
        "    \"\"\"Utility function to format timedelta objects in a cool way (e.g 00:00:20.05) \n",
        "    omitting microseconds and retaining milliseconds\"\"\"\n",
        "    result = str(td)\n",
        "    try:\n",
        "        result, ms = result.split(\".\")\n",
        "    except ValueError:\n",
        "        return result + \".00\".replace(\":\", \"-\")\n",
        "    ms = int(ms)\n",
        "    ms = round(ms / 1e4)\n",
        "    return f\"{result}.{ms:02}\".replace(\":\", \"-\")"
      ],
      "metadata": {
        "id": "7nKB0YAY6cwt"
      },
      "execution_count": null,
      "outputs": []
    },
    {
      "cell_type": "code",
      "source": [
        "def main(video_file):\n",
        "    # load the video clip\n",
        "    c=0\n",
        "    video_clip = VideoFileClip(video_file)\n",
        "    # make a folder by the name of the video file\n",
        "    filename, _ = os.path.splitext(video_file)\n",
        "    filename += \"-moviepy\"\n",
        "    if not os.path.isdir(filename):\n",
        "        os.mkdir(filename)\n",
        "\n",
        "    # if the SAVING_FRAMES_PER_SECOND is above video FPS, then set it to FPS (as maximum)\n",
        "    saving_frames_per_second = min(video_clip.fps, SAVING_FRAMES_PER_SECOND)\n",
        "    # if SAVING_FRAMES_PER_SECOND is set to 0, step is 1/fps, else 1/SAVING_FRAMES_PER_SECOND\n",
        "    step = 1 / video_clip.fps if saving_frames_per_second == 0 else 1 / saving_frames_per_second\n",
        "    # iterate over each possible frame\n",
        "    for current_duration in np.arange(0, video_clip.duration, step):\n",
        "        # format the file name and save it\n",
        "        frame_duration_formatted = format_timedelta(timedelta(seconds=current_duration)).replace(\":\", \"-\")\n",
        "        frame_filename = os.path.join(filename, f\"frame{c}.jpg\")\n",
        "        c=c+20\n",
        "        # save the frame with the current duration\n",
        "        video_clip.save_frame(frame_filename, current_duration)"
      ],
      "metadata": {
        "id": "UGBtaX7d6hmR"
      },
      "execution_count": null,
      "outputs": []
    },
    {
      "cell_type": "code",
      "source": [
        "if __name__ == \"__main__\":\n",
        "    import sys\n",
        "    video_file = \"/content/cars.mp4\"\n",
        "    main(video_file)"
      ],
      "metadata": {
        "id": "5gbNEaF36l4p"
      },
      "execution_count": null,
      "outputs": []
    },
    {
      "cell_type": "code",
      "source": [
        "import os\n",
        "\n",
        "# folder path\n",
        "dir_path = r'/content/cars-moviepy'\n",
        "count = 0\n",
        "# Iterate directory\n",
        "for path in os.listdir(dir_path):\n",
        "    # check if current path is a file\n",
        "    if os.path.isfile(os.path.join(dir_path, path)):\n",
        "        count += 1\n",
        "print('File count:', count)"
      ],
      "metadata": {
        "colab": {
          "base_uri": "https://localhost:8080/"
        },
        "id": "rqrMsPlQ6o_R",
        "outputId": "526fb7b3-7f72-4bda-dc9a-a66e4ee669be"
      },
      "execution_count": null,
      "outputs": [
        {
          "output_type": "stream",
          "name": "stdout",
          "text": [
            "File count: 45\n"
          ]
        }
      ]
    },
    {
      "cell_type": "code",
      "source": [
        "!zip -r /content/sample_data.zip /content"
      ],
      "metadata": {
        "colab": {
          "base_uri": "https://localhost:8080/"
        },
        "id": "f_f92v8N_eho",
        "outputId": "8222dd8e-670d-4d87-8598-d4463134fa89"
      },
      "execution_count": null,
      "outputs": [
        {
          "output_type": "stream",
          "name": "stdout",
          "text": [
            "  adding: content/ (stored 0%)\n",
            "  adding: content/.config/ (stored 0%)\n",
            "  adding: content/.config/logs/ (stored 0%)\n",
            "  adding: content/.config/logs/2022.12.05/ (stored 0%)\n",
            "  adding: content/.config/logs/2022.12.05/14.37.16.591386.log (deflated 54%)\n",
            "  adding: content/.config/logs/2022.12.05/14.36.51.203185.log (deflated 54%)\n",
            "  adding: content/.config/logs/2022.12.05/14.36.18.398886.log (deflated 53%)\n",
            "  adding: content/.config/logs/2022.12.05/14.36.43.534960.log (deflated 86%)\n",
            "  adding: content/.config/logs/2022.12.05/14.37.17.276212.log (deflated 54%)\n",
            "  adding: content/.config/logs/2022.12.05/14.35.52.881655.log (deflated 92%)\n",
            "  adding: content/.config/config_sentinel (stored 0%)\n",
            "  adding: content/.config/.last_update_check.json (deflated 24%)\n",
            "  adding: content/.config/active_config (stored 0%)\n",
            "  adding: content/.config/configurations/ (stored 0%)\n",
            "  adding: content/.config/configurations/config_default (deflated 15%)\n",
            "  adding: content/.config/gce (stored 0%)\n",
            "  adding: content/.config/.last_opt_in_prompt.yaml (stored 0%)\n",
            "  adding: content/.config/.last_survey_prompt.yaml (stored 0%)\n",
            "  adding: content/cars-moviepy/ (stored 0%)\n",
            "  adding: content/cars-moviepy/frame20.jpg (deflated 1%)\n",
            "  adding: content/cars-moviepy/frame320.jpg (deflated 1%)\n",
            "  adding: content/cars-moviepy/frame40.jpg (deflated 1%)\n",
            "  adding: content/cars-moviepy/frame240.jpg (deflated 1%)\n",
            "  adding: content/cars-moviepy/frame420.jpg (deflated 1%)\n",
            "  adding: content/cars-moviepy/frame60.jpg (deflated 1%)\n",
            "  adding: content/cars-moviepy/frame140.jpg (deflated 1%)\n",
            "  adding: content/cars-moviepy/frame600.jpg (deflated 1%)\n",
            "  adding: content/cars-moviepy/frame560.jpg (deflated 1%)\n",
            "  adding: content/cars-moviepy/frame380.jpg (deflated 1%)\n",
            "  adding: content/cars-moviepy/frame260.jpg (deflated 1%)\n",
            "  adding: content/cars-moviepy/frame0.jpg (deflated 1%)\n",
            "  adding: content/cars-moviepy/frame360.jpg (deflated 1%)\n",
            "  adding: content/cars-moviepy/frame800.jpg (deflated 1%)\n",
            "  adding: content/cars-moviepy/frame480.jpg (deflated 1%)\n",
            "  adding: content/cars-moviepy/frame740.jpg (deflated 1%)\n",
            "  adding: content/cars-moviepy/frame300.jpg (deflated 1%)\n",
            "  adding: content/cars-moviepy/frame280.jpg (deflated 1%)\n",
            "  adding: content/cars-moviepy/frame660.jpg (deflated 1%)\n",
            "  adding: content/cars-moviepy/frame700.jpg (deflated 1%)\n",
            "  adding: content/cars-moviepy/frame340.jpg (deflated 1%)\n",
            "  adding: content/cars-moviepy/frame840.jpg (deflated 1%)\n",
            "  adding: content/cars-moviepy/frame220.jpg (deflated 1%)\n",
            "  adding: content/cars-moviepy/frame100.jpg (deflated 1%)\n",
            "  adding: content/cars-moviepy/frame680.jpg (deflated 1%)\n",
            "  adding: content/cars-moviepy/frame880.jpg (deflated 1%)\n",
            "  adding: content/cars-moviepy/frame620.jpg (deflated 1%)\n",
            "  adding: content/cars-moviepy/frame760.jpg (deflated 1%)\n",
            "  adding: content/cars-moviepy/frame580.jpg (deflated 1%)\n",
            "  adding: content/cars-moviepy/frame540.jpg (deflated 1%)\n",
            "  adding: content/cars-moviepy/frame440.jpg (deflated 1%)\n",
            "  adding: content/cars-moviepy/frame180.jpg (deflated 1%)\n",
            "  adding: content/cars-moviepy/frame80.jpg (deflated 1%)\n",
            "  adding: content/cars-moviepy/frame780.jpg (deflated 1%)\n",
            "  adding: content/cars-moviepy/frame520.jpg (deflated 1%)\n",
            "  adding: content/cars-moviepy/frame460.jpg (deflated 1%)\n",
            "  adding: content/cars-moviepy/frame820.jpg (deflated 1%)\n",
            "  adding: content/cars-moviepy/frame860.jpg (deflated 1%)\n",
            "  adding: content/cars-moviepy/frame720.jpg (deflated 1%)\n",
            "  adding: content/cars-moviepy/frame400.jpg (deflated 1%)\n",
            "  adding: content/cars-moviepy/frame120.jpg (deflated 1%)\n",
            "  adding: content/cars-moviepy/frame640.jpg (deflated 1%)\n",
            "  adding: content/cars-moviepy/frame160.jpg (deflated 1%)\n",
            "  adding: content/cars-moviepy/frame500.jpg (deflated 1%)\n",
            "  adding: content/cars-moviepy/frame200.jpg (deflated 1%)\n",
            "  adding: content/cars.mp4 (deflated 0%)\n",
            "  adding: content/sample_data/ (stored 0%)\n",
            "  adding: content/sample_data/anscombe.json (deflated 83%)\n",
            "  adding: content/sample_data/README.md (deflated 42%)\n",
            "  adding: content/sample_data/california_housing_test.csv (deflated 76%)\n",
            "  adding: content/sample_data/california_housing_train.csv (deflated 79%)\n",
            "  adding: content/sample_data/mnist_test.csv (deflated 88%)\n",
            "  adding: content/sample_data/mnist_train_small.csv (deflated 88%)\n"
          ]
        }
      ]
    },
    {
      "cell_type": "code",
      "source": [],
      "metadata": {
        "id": "KRv-P5AaAa92"
      },
      "execution_count": null,
      "outputs": []
    }
  ]
}